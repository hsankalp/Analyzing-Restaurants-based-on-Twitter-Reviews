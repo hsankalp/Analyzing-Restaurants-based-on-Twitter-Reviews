{
 "cells": [
  {
   "cell_type": "code",
   "execution_count": 1,
   "metadata": {
    "collapsed": false
   },
   "outputs": [],
   "source": [
    "%matplotlib inline\n",
    "import tweepy\n",
    "import ConfigParser\n",
    "import csv\n",
    "import time\n",
    "import pandas\n",
    "import re\n",
    "from StringIO import StringIO\n",
    "from zipfile import ZipFile\n",
    "from urllib import urlopen\n",
    "import collections\n",
    "from collections import Counter\n",
    "from collections import defaultdict\n",
    "import nltk\n",
    "from nltk.stem import *\n",
    "from nltk.corpus import sentiwordnet as swn\n",
    "from StringIO import StringIO\n",
    "from zipfile import ZipFile\n",
    "from urllib import urlopen\n",
    "from collections import defaultdict\n",
    "import matplotlib\n",
    "from pylab import *\n",
    "import matplotlib.pyplot as plt\n",
    "import json\n",
    "from pprint import pprint\n",
    "from sklearn.cross_validation import KFold\n",
    "from sklearn.feature_extraction.text import CountVectorizer\n",
    "from sklearn.linear_model import LogisticRegression\n",
    "from sklearn.metrics import accuracy_score\n",
    "import tarfile"
   ]
  },
  {
   "cell_type": "code",
   "execution_count": 2,
   "metadata": {
    "collapsed": false
   },
   "outputs": [
    {
     "name": "stdout",
     "output_type": "stream",
     "text": [
      "Established Twitter connection.\n"
     ]
    }
   ],
   "source": [
    "def getTwitter(config_file):\n",
    "    \"\"\" \n",
    "    Function Name :get_twitter\n",
    "    Function      :Read the config_file and construct an instance of TweepyAPI.\n",
    "    Args          :config_file - A config file in ConfigParser format with Twitter credentials.\n",
    "    Returns       :An instance of TweepyAPI.\n",
    "    \"\"\"\n",
    "    config = ConfigParser.ConfigParser()\n",
    "    config.read(config_file)\n",
    "    OAUTH_KEYS = {'consumer_key':config.get('twitter', 'consumer_key'),\n",
    "                  'consumer_secret':config.get('twitter', 'consumer_secret')}\n",
    "    \n",
    "    auth = tweepy.OAuthHandler(OAUTH_KEYS['consumer_key'], OAUTH_KEYS['consumer_secret'])\n",
    "    api = tweepy.API(auth)             \n",
    "    return api\n",
    "\n",
    "twitter = getTwitter('twitter.cfg')\n",
    "print('Established Twitter connection.')"
   ]
  },
  {
   "cell_type": "code",
   "execution_count": 3,
   "metadata": {
    "collapsed": false
   },
   "outputs": [
    {
     "name": "stdout",
     "output_type": "stream",
     "text": [
      "Total number of Restaurants from Chicago Data Portal: 8798\n",
      "First 10 Restaurants from the list are: \n",
      "['CEMITAS PUEBLA', 'DUNKIN DONUTS/BASKIN ROBBINS', 'NESH MEDITERRANEAN GRILL', 'LOS MIXIOTES', 'THE GAME', 'LA REYNA DEL SAZON', 'GILBERT WOODS', 'RED SNAPPER', 'OPART THAI', 'BALZEKAS MUSEUM OF LITHUANIAN']\n"
     ]
    }
   ],
   "source": [
    "def readRestaurants(fileName):\n",
    "    \"\"\" \n",
    "    Function Name :read_restaurants\n",
    "    Function      :Read a filename and extracts the restaurant names form it.\n",
    "    Args          :fileName - A csv file with the list of restaurant in Chicago.\n",
    "    Returns       :A list of restaurants.\n",
    "    \"\"\"\n",
    "    fields = ['DBA Name', 'Facility Type']\n",
    "    data = pandas.read_csv(fileName, skipinitialspace=True, usecols=fields)\n",
    "    Restaurants = (data.loc[data['Facility Type'] == 'Restaurant'])\n",
    "    listRest = Restaurants['DBA Name'].values.tolist()\n",
    "    tempRestaurant=[]\n",
    "    restaurants = []\n",
    "    for index in listRest:\n",
    "        temp = ''.join(index.partition(\"#\")[0:1])\n",
    "        temp2 = ''.join(temp.partition(\"'\")[0:1])\n",
    "        tempRestaurant.append(temp2)\n",
    "\n",
    "    for rest in tempRestaurant:\n",
    "        if rest not in restaurants:\n",
    "            restaurants.append(rest)          \n",
    "    return restaurants\n",
    "\n",
    "restaurants = readRestaurants(\"Food_Inspections.csv\")\n",
    "print (\"Total number of Restaurants from Chicago Data Portal: %d\" %len(restaurants))\n",
    "\n",
    "print \"First 10 Restaurants from the list are: \"\n",
    "print restaurants[:10]"
   ]
  },
  {
   "cell_type": "code",
   "execution_count": 4,
   "metadata": {
    "collapsed": false
   },
   "outputs": [],
   "source": [
    "def getTweets(twitter, Search_Query):\n",
    "    \"\"\" \n",
    "    Function Name :getTweets\n",
    "    Function      :Queries twitter using the Tweepy api with a search query and returns the results.\n",
    "    Args          :twitter - A Tweepy API and Search_Query - The string to be queried.\n",
    "    Returns       :All tweets returned by the query.\n",
    "    \"\"\"\n",
    "    Tweets = tweepy.Cursor(twitter.search, q=Search_Query, lang=\"en\").items(5000)\n",
    "    return Tweets"
   ]
  },
  {
   "cell_type": "code",
   "execution_count": 5,
   "metadata": {
    "collapsed": false
   },
   "outputs": [
    {
     "name": "stdout",
     "output_type": "stream",
     "text": [
      "20\n"
     ]
    }
   ],
   "source": [
    "def getTweetList(twitter, Search_Query):    \n",
    "    \"\"\" \n",
    "    Function Name :getTweetList\n",
    "    Function      :Queries twitter using the Tweepy api with a search query and returns the results.\n",
    "    Args          :twitter - A Tweepy API and Search_Query - The string to be queried.\n",
    "    Returns       :All tweets returned by the query.\n",
    "    \"\"\"    \n",
    "    Tweets = getTweets(twitter, Search_Query)\n",
    "    \n",
    "    count = 0\n",
    "    \n",
    "    tweetList=[]\n",
    "    \n",
    "    for tweet in Tweets:\n",
    "        count+=1\n",
    "        tweetList.append(tweet.text.encode('utf-8'))\n",
    "\n",
    "    return tweetList\n",
    "\n",
    "CEMITAS_List = getTweetList(twitter, \"CEMITAS PUEBLA\")\n",
    "print len(CEMITAS_List)"
   ]
  },
  {
   "cell_type": "code",
   "execution_count": 6,
   "metadata": {
    "collapsed": false
   },
   "outputs": [
    {
     "name": "stdout",
     "output_type": "stream",
     "text": [
      "read 432 giordanos tweets\n"
     ]
    }
   ],
   "source": [
    "print 'read %d giordanos tweets' % len(getTweetList(twitter, \"giordanos\"))"
   ]
  },
  {
   "cell_type": "code",
   "execution_count": 7,
   "metadata": {
    "collapsed": false
   },
   "outputs": [
    {
     "name": "stdout",
     "output_type": "stream",
     "text": [
      "First 5 tweets are:\n",
      "[\"If I didn't have to work tomorrow, I'd be on the next flight out to Chicago! #pizza #giordanos \\xf0\\x9f\\x8d\\x95\\xe2\\x9c\\x88\\xef\\xb8\\x8f https://t.co/dkFAuPN3jt\", \"@UnoOtter giordanos?! We're there now!\", 'What a wonderful gift idea from 700 miles away; love that #Giordanos https://t.co/YA0G7jbCjz', 'Leftover Giordanos at the crib \\xf0\\x9f\\x99\\x8c\\xf0\\x9f\\x8f\\xbe', 'Someone buy me a giordanos deep dish cheese pizza please please please \\xf0\\x9f\\x92\\x97\\xf0\\x9f\\x92\\x97\\xf0\\x9f\\x92\\x97']\n"
     ]
    }
   ],
   "source": [
    "print 'First 5 tweets are:'\n",
    "print getTweetList(twitter, \"giordanos\")[:5]"
   ]
  },
  {
   "cell_type": "code",
   "execution_count": 8,
   "metadata": {
    "collapsed": true
   },
   "outputs": [],
   "source": [
    "def tokenize_with_not(text):\n",
    "    \"\"\" \n",
    "    Function Name :tokenize_with_not\n",
    "    Function      :Whenever the term 'not'appears, changes the two subsequent tokens to have the prefix 'not_'.\n",
    "    Args          :text - A text string to be tokenized.\n",
    "    Returns       :A list of tokens.\n",
    "    \"\"\"\n",
    "    keyWord = \"not_\"\n",
    "    listTokens = re.sub('\\W+', ' ', text.lower()).split()\n",
    "    for index in range(len(listTokens)-1):\n",
    "        if listTokens[index] == \"not\":\n",
    "            listTokens[index+1]=keyWord+listTokens[index+1]\n",
    "            if ((index+1)!=(len(listTokens)-1)):\n",
    "                listTokens[index+2]=keyWord+listTokens[index+2]\n",
    "    return listTokens"
   ]
  },
  {
   "cell_type": "code",
   "execution_count": 9,
   "metadata": {
    "collapsed": false
   },
   "outputs": [
    {
     "name": "stdout",
     "output_type": "stream",
     "text": [
      "read 2462 AFINN terms.\n",
      "E.g.: [('limited', -1), ('suicidal', -2), ('pardon', 2), ('desirable', 2), ('protest', -2), ('lurking', -1), ('controversial', -2), ('hating', -3), ('ridiculous', -3), ('hate', -3)]\n"
     ]
    }
   ],
   "source": [
    "\"\"\" \n",
    "Downloads the AFINN package and forms a dictionary with all the terms in the list and their respective scores.\n",
    "\"\"\"\n",
    "url = urlopen('http://www2.compute.dtu.dk/~faan/data/AFINN.zip')\n",
    "zipfile = ZipFile(StringIO(url.read()))\n",
    "afinn_file = zipfile.open('AFINN/AFINN-111.txt')\n",
    "\n",
    "afinn = dict()\n",
    "\n",
    "for line in afinn_file:\n",
    "    parts = line.strip().split()\n",
    "    if len(parts) == 2:\n",
    "        afinn[parts[0]] = int(parts[1])\n",
    "\n",
    "print 'read', len(afinn), 'AFINN terms.\\nE.g.:', afinn.items()[:10]"
   ]
  },
  {
   "cell_type": "code",
   "execution_count": 10,
   "metadata": {
    "collapsed": false
   },
   "outputs": [
    {
     "name": "stdout",
     "output_type": "stream",
     "text": [
      "AFINN:\n",
      "\tgood=3\n",
      "\tbad=-3\n",
      "(3, 3)\n"
     ]
    }
   ],
   "source": [
    "\"\"\" \n",
    "Function Name :afinnSentiment\n",
    "Function      :Calculates the AFINN score based on the tokens passed to it and returns \n",
    "               the positive and negative scores.\n",
    "Args          :terms - A set of tokens, afinn - The AFINN dictionary.\n",
    "Returns       :Positive and Negative scores.\n",
    "\"\"\"\n",
    "def afinnSentiment(terms, afinn, verbose=False):\n",
    "    pos = 0\n",
    "    neg = 0\n",
    "    for t in terms:\n",
    "        if t in afinn:\n",
    "            if verbose:\n",
    "                print '\\t%s=%d' % (t, afinn[t])\n",
    "            if afinn[t] > 0:\n",
    "                pos += afinn[t]\n",
    "            else:\n",
    "                neg += -1 * afinn[t]\n",
    "    return pos, neg\n",
    "\n",
    "doc = \"it has a hokey plot that is both to good and bad\".split()\n",
    "print 'AFINN:\\n', afinnSentiment(doc, afinn, verbose=True)"
   ]
  },
  {
   "cell_type": "code",
   "execution_count": 11,
   "metadata": {
    "collapsed": false
   },
   "outputs": [
    {
     "name": "stdout",
     "output_type": "stream",
     "text": [
      "432\n"
     ]
    }
   ],
   "source": [
    "tweetList = getTweetList(twitter, \"giordanos\")\n",
    "print len(tweetList)"
   ]
  },
  {
   "cell_type": "code",
   "execution_count": 12,
   "metadata": {
    "collapsed": false
   },
   "outputs": [
    {
     "name": "stdout",
     "output_type": "stream",
     "text": [
      "[['if', 'i', 'didn', 't', 'have', 'to', 'work', 'tomorrow', 'i', 'd', 'be', 'on', 'the', 'next', 'flight', 'out', 'to', 'chicago', 'pizza', 'giordanos', 'https', 't', 'co', 'dkfaupn3jt'], ['unootter', 'giordanos', 'we', 're', 'there', 'now'], ['what', 'a', 'wonderful', 'gift', 'idea', 'from', '700', 'miles', 'away', 'love', 'that', 'giordanos', 'https', 't', 'co', 'ya0g7jbcjz'], ['leftover', 'giordanos', 'at', 'the', 'crib'], ['someone', 'buy', 'me', 'a', 'giordanos', 'deep', 'dish', 'cheese', 'pizza', 'please', 'please', 'please']]\n"
     ]
    }
   ],
   "source": [
    "tokenslist = [tokenize_with_not(t) for t in tweetList]\n",
    "print tokenslist[:5]"
   ]
  },
  {
   "cell_type": "code",
   "execution_count": 13,
   "metadata": {
    "collapsed": false
   },
   "outputs": [],
   "source": [
    "positives = []\n",
    "negatives = []\n",
    "for tweet in tokenslist:\n",
    "    pos, neg = afinnSentiment(tweet, afinn)\n",
    "    if pos > neg:\n",
    "        positives.append((' '.join(tweet), pos, neg))\n",
    "    elif neg > pos:\n",
    "        negatives.append((' '.join(tweet), pos, neg))"
   ]
  },
  {
   "cell_type": "code",
   "execution_count": 14,
   "metadata": {
    "collapsed": false
   },
   "outputs": [
    {
     "name": "stdout",
     "output_type": "stream",
     "text": [
      "10 0 jeffcannata happy turkey day enjoy my hometown of chicago giordanos forever thanks for your continual enthusiastic contributions\n",
      "9 0 what a wonderful gift idea from 700 miles away love that giordanos https t co ya0g7jbcjz\n",
      "8 0 ovidioluisxo ny pizza is always king but its good to try it if you never had it giordanos is pretty amazing\n",
      "7 0 trying to decide between this amazing dressing i made and ordering a stuffed pizza from giordanos decisions lol innerfatgirl\n",
      "7 0 farbodnba mclaughlin_bo yea i think lou s is the best and then there s giordanos which is pretty good but it s sponsored by d rose\n",
      "6 0 3 million networth and 1 million in liquid for me to bring giordanos to la lol im on a mission dammit lol\n",
      "6 0 annebadasci squandered my chance but giordanos is amazing\n",
      "5 0 vintagedaggers i think its good i would have like some giordanos though\n",
      "5 0 kiss my a that s good pizza giordanos https t co ekkxkaffxm\n",
      "4 3 rt nytimesbooks a short and elegant new novel details how a small family unravels when its housekeeper falls ill and resigns https t c\n"
     ]
    }
   ],
   "source": [
    "# Print top positives:\n",
    "for tweet, pos, neg in sorted(positives, key=lambda x: x[1], reverse=True)[:10]:\n",
    "    print pos, neg, tweet"
   ]
  },
  {
   "cell_type": "code",
   "execution_count": 15,
   "metadata": {
    "collapsed": false
   },
   "outputs": [
    {
     "name": "stdout",
     "output_type": "stream",
     "text": [
      "0 6 mff goals 1 alcohol 2 take questionable regretful and shameful selfies 3 animals 4 giordanos 5 mariano s orange juice\n",
      "0 6 never again makhari act a damn fool at giordanos\n",
      "4 5 i want some giordanos before i leave man it s a must shit was too good\n",
      "3 4 shit would pop off rt gorobotic 3 million networth and 1 million in liquid for me to bring giordanos to la lol im on a mission dammit\n",
      "0 4 k_rich mike_malone1 kyle i will personally come to giordanos right now to beat your ass\n",
      "0 4 damn only if giordanos had this https t co 0qilgyucrx\n",
      "0 4 another way to get me to cancel a first date choose we go to dave and busters finally something worse than the bar at giordanos truestory\n",
      "0 4 giordanos dat pizza wasn t shit\n",
      "3 4 rt mandrewxxx i fucking love giordanos https t co ffnptaywl8\n",
      "3 4 i fucking love giordanos https t co ffnptaywl8\n"
     ]
    }
   ],
   "source": [
    "# Print top negatives:\n",
    "for tweet, pos, neg in sorted(negatives, key=lambda x: x[2], reverse=True)[:10]:\n",
    "    print pos, neg, tweet"
   ]
  },
  {
   "cell_type": "code",
   "execution_count": 16,
   "metadata": {
    "collapsed": false
   },
   "outputs": [
    {
     "name": "stdout",
     "output_type": "stream",
     "text": [
      "like count=171 sentiment=2\n",
      "novel count=40 sentiment=2\n",
      "elegant count=39 sentiment=2\n",
      "ill count=37 sentiment=-2\n",
      "resigns count=36 sentiment=-1\n",
      "best count=11 sentiment=3\n",
      "safe count=8 sentiment=1\n",
      "lol count=8 sentiment=3\n",
      "want count=7 sentiment=1\n",
      "good count=7 sentiment=3\n",
      "love count=5 sentiment=3\n"
     ]
    }
   ],
   "source": [
    "# Which words contribute most to sentiment?\n",
    "all_counts = Counter()\n",
    "for tweet in tokenslist:\n",
    "    all_counts.update(tweet)\n",
    "sorted_tokens = sorted(all_counts.items(), key=lambda x:x[1], reverse=True)\n",
    "i = 0\n",
    "for token, count in sorted_tokens:\n",
    "    if token in afinn:\n",
    "        print '%s count=%d sentiment=%d' % (token, count, afinn[token])\n",
    "        i += 1\n",
    "        if i > 10:\n",
    "            break"
   ]
  },
  {
   "cell_type": "code",
   "execution_count": 17,
   "metadata": {
    "collapsed": false
   },
   "outputs": [],
   "source": [
    "\"\"\" \n",
    "Function Name :sentiScore\n",
    "Function      :Queries twitter and gets the tweets based on a restaurant name and calculates the NLTK sentiscore.\n",
    "Args          :restaurants - The list of restaurants, Twitter - The Tweepy API.\n",
    "Returns       :The positive and negative sentiscores of each restaurant in a list.\n",
    "\"\"\"\n",
    "def sentiScore(restaurants, twitter):\n",
    "    d ={}\n",
    "    for item in restaurants:\n",
    "        pscore = 0\n",
    "        nscore = 0\n",
    "        tokens = []\n",
    "        Tweets = getTweets(twitter, item)\n",
    "        for tweet in Tweets:\n",
    "            tokens.append(tokenize_with_not(tweet.text))\n",
    "        for token in tokens:\n",
    "            tagged=nltk.pos_tag(token)     \n",
    "            for i in range(0,len(tagged)):\n",
    "                if 'NN' in tagged[i][1] and len(swn.senti_synsets(tagged[i][0],'n'))>0:\n",
    "                    pscore=pscore+(list(swn.senti_synsets(tagged[i][0],'n'))[0]).pos_score() \n",
    "                    nscore=nscore+(list(swn.senti_synsets(tagged[i][0],'n'))[0]).neg_score() \n",
    "                elif 'VB' in tagged[i][1] and len(swn.senti_synsets(tagged[i][0],'v'))>0:\n",
    "                    pscore=pscore+(list(swn.senti_synsets(tagged[i][0],'v'))[0]).pos_score()\n",
    "                    nscore=nscore+(list(swn.senti_synsets(tagged[i][0],'v'))[0]).neg_score()\n",
    "                elif 'JJ' in tagged[i][1] and len(swn.senti_synsets(tagged[i][0],'a'))>0:\n",
    "                    pscore=pscore+(list(swn.senti_synsets(tagged[i][0],'a'))[0]).pos_score()\n",
    "                    nscore=nscore+(list(swn.senti_synsets(tagged[i][0],'a'))[0]).neg_score()\n",
    "                elif 'RB' in tagged[i][1] and len(swn.senti_synsets(tagged[i][0],'r'))>0:\n",
    "                    pscore=pscore+(list(swn.senti_synsets(tagged[i][0],'r'))[0]).pos_score()\n",
    "                    nscore=nscore+(list(swn.senti_synsets(tagged[i][0],'r'))[0]).neg_score()\n",
    "        d[item]=[str(pscore), str(nscore)]\n",
    "    return d"
   ]
  },
  {
   "cell_type": "code",
   "execution_count": 18,
   "metadata": {
    "collapsed": false
   },
   "outputs": [],
   "source": [
    "\"\"\" \n",
    "Function Name :singleSentiScore\n",
    "Function      :Queries twitter and gets the tweets based on a restaurant name and calculates the NLTK sentiscore.\n",
    "Args          :search_query - Restaurant name to be queried, Twitter - The Tweepy API.\n",
    "Returns       :The positive and negative sentiscores of each restaurant in a list.\n",
    "\"\"\"\n",
    "def singleSentiScore(twitter, searchQuery):\n",
    "    d ={}\n",
    "    pscore = 0\n",
    "    nscore = 0\n",
    "    tokens = []\n",
    "    Tweets = getTweets(twitter, searchQuery)\n",
    "    for tweet in Tweets:\n",
    "        tokens.append(tokenize_with_not(tweet.text))     \n",
    "    for token in tokens:\n",
    "        tagged=nltk.pos_tag(token)     \n",
    "        for i in range(0,len(tagged)):\n",
    "            if 'NN' in tagged[i][1] and len(swn.senti_synsets(tagged[i][0],'n'))>0:\n",
    "                pscore=pscore+(list(swn.senti_synsets(tagged[i][0],'n'))[0]).pos_score() \n",
    "                nscore=nscore+(list(swn.senti_synsets(tagged[i][0],'n'))[0]).neg_score() \n",
    "            elif 'VB' in tagged[i][1] and len(swn.senti_synsets(tagged[i][0],'v'))>0:\n",
    "                pscore=pscore+(list(swn.senti_synsets(tagged[i][0],'v'))[0]).pos_score()\n",
    "                nscore=nscore+(list(swn.senti_synsets(tagged[i][0],'v'))[0]).neg_score()\n",
    "            elif 'JJ' in tagged[i][1] and len(swn.senti_synsets(tagged[i][0],'a'))>0:\n",
    "                pscore=pscore+(list(swn.senti_synsets(tagged[i][0],'a'))[0]).pos_score()\n",
    "                nscore=nscore+(list(swn.senti_synsets(tagged[i][0],'a'))[0]).neg_score()\n",
    "            elif 'RB' in tagged[i][1] and len(swn.senti_synsets(tagged[i][0],'r'))>0:\n",
    "                pscore=pscore+(list(swn.senti_synsets(tagged[i][0],'r'))[0]).pos_score()\n",
    "                nscore=nscore+(list(swn.senti_synsets(tagged[i][0],'r'))[0]).neg_score()        \n",
    "    d[searchQuery]=[str(pscore), str(nscore)]\n",
    "    return d"
   ]
  },
  {
   "cell_type": "code",
   "execution_count": 19,
   "metadata": {
    "collapsed": false
   },
   "outputs": [],
   "source": [
    "\"\"\" \n",
    "Function Name :pieChart\n",
    "Function      :Plots the pieChart of positive .\n",
    "Args          :scoreDict - A list of scores of restaurants in a dictionary.\n",
    "Returns       :The positive and negative sentiscores of each restaurant in a list.\n",
    "\"\"\"\n",
    "def pieChart(scoreDict):\n",
    "    for key in scoreDict:\n",
    "        labels = 'Positive Sentiment Score', 'Negative Sentiment Score'\n",
    "        sizes = [scoreDict[key][0],scoreDict[key][1]]\n",
    "        colors = ['yellowgreen', 'gold']\n",
    "        plt.pie(sizes, labels=labels, colors=colors,\n",
    "        autopct='%1.1f%%', shadow=True, startangle=90)\n",
    "        plt.axis('equal')\n",
    "        return key"
   ]
  },
  {
   "cell_type": "code",
   "execution_count": 20,
   "metadata": {
    "collapsed": false
   },
   "outputs": [
    {
     "name": "stdout",
     "output_type": "stream",
     "text": [
      "Enter the name of the Restaurant in Chicago: McDonald\n",
      "fetching the Scores:\n",
      "{'McDonald': ['1693.069', '1284.056']}\n"
     ]
    },
    {
     "data": {
      "image/png": "[encoded data removed]",
      "text/plain": [
       "<matplotlib.figure.Figure at 0x10d040990>"
      ]
     },
     "metadata": {},
     "output_type": "display_data"
    }
   ],
   "source": [
    "searchQuery = raw_input('Enter the name of the Restaurant in Chicago: ')\n",
    "\n",
    "if searchQuery in restaurants:\n",
    "    print 'fetching the Scores:'\n",
    "    scoreDict=singleSentiScore(twitter,searchQuery)\n",
    "    print scoreDict\n",
    "    pieChart(scoreDict)\n",
    "else:\n",
    "    print \"Please Check the name of the Restaurant\""
   ]
  },
  {
   "cell_type": "code",
   "execution_count": null,
   "metadata": {
    "collapsed": true
   },
   "outputs": [],
   "source": []
  }
 ],
 "metadata": {
  "kernelspec": {
   "display_name": "Python 3",
   "language": "python",
   "name": "python3"
  },
  "language_info": {
   "codemirror_mode": {
    "name": "ipython",
    "version": 3
   },
   "file_extension": ".py",
   "mimetype": "text/x-python",
   "name": "python",
   "nbconvert_exporter": "python",
   "pygments_lexer": "ipython3",
   "version": "3.5.1"
  }
 },
 "nbformat": 4,
 "nbformat_minor": 0
}
